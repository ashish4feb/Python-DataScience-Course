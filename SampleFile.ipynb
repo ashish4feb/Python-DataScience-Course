{
 "cells": [
  {
   "cell_type": "markdown",
   "metadata": {},
   "source": [
    "## Python and Pandas"
   ]
  },
  {
   "cell_type": "markdown",
   "metadata": {},
   "source": [
    "What is Pandas ? \n",
    "\n",
    "Pandas is a software library written for the Python programming language for data manipulation and analysis. In particular, it offers data structures and operations for manipulating numerical tables and time series. It is free software released under the three-clause BSD license. The name is derived from the term \"panel data\", an econometrics term for multidimensional, structured data sets.\n",
    "[https://en.wikipedia.org/wiki/Pandas_(software)]"
   ]
  },
  {
   "cell_type": "markdown",
   "metadata": {},
   "source": [
    "### Lets Start"
   ]
  },
  {
   "cell_type": "markdown",
   "metadata": {},
   "source": [
    "First step is to import pandas library"
   ]
  },
  {
   "cell_type": "code",
   "execution_count": 2,
   "metadata": {
    "collapsed": true
   },
   "outputs": [],
   "source": [
    "import pandas as pd"
   ]
  },
  {
   "cell_type": "markdown",
   "metadata": {},
   "source": [
    "Now we have tool to manipulate data but how are we going to get our data. This course has provded you with few datafiles already in .csv format so we need some library to read those csv file, something we have learned in previous course. But pandas have its own csv reader so we will use that."
   ]
  },
  {
   "cell_type": "code",
   "execution_count": 132,
   "metadata": {
    "collapsed": false
   },
   "outputs": [],
   "source": [
    "df = pd.read_csv(\"C:/Users/ashis/OPS/Patient_discharge/2004/post_discharge_events_HRR_CHF_2004.csv\",delimiter=None, encoding=\"utf-8\", thousands=',')"
   ]
  },
  {
   "cell_type": "markdown",
   "metadata": {},
   "source": [
    "now that we have pandas we can read any csv file and get a dataframe out of that file, lets see what is in the loaded dataframe now."
   ]
  },
  {
   "cell_type": "markdown",
   "metadata": {},
   "source": [
    "head() is a fucntion that  lets us vew top few lines of the dataframe"
   ]
  },
  {
   "cell_type": "code",
   "execution_count": 133,
   "metadata": {
    "collapsed": false
   },
   "outputs": [
    {
     "data": {
      "text/html": [
       "<div>\n",
       "<table border=\"1\" class=\"dataframe\">\n",
       "  <thead>\n",
       "    <tr style=\"text-align: right;\">\n",
       "      <th></th>\n",
       "      <th>HRR ID</th>\n",
       "      <th>HRR name</th>\n",
       "      <th>State</th>\n",
       "      <th>Patients</th>\n",
       "      <th>Perc_Readmitted_30d</th>\n",
       "      <th>Perc_PrimaryCare_14d</th>\n",
       "      <th>Perc_Ambulatory_14d</th>\n",
       "      <th>Perc_Emergency_30d</th>\n",
       "    </tr>\n",
       "  </thead>\n",
       "  <tbody>\n",
       "    <tr>\n",
       "      <th>0</th>\n",
       "      <td>1</td>\n",
       "      <td>Birmingham</td>\n",
       "      <td>AL</td>\n",
       "      <td>3040</td>\n",
       "      <td>20.6</td>\n",
       "      <td>44.9</td>\n",
       "      <td>59.5</td>\n",
       "      <td>21.4</td>\n",
       "    </tr>\n",
       "    <tr>\n",
       "      <th>1</th>\n",
       "      <td>2</td>\n",
       "      <td>Dothan</td>\n",
       "      <td>AL</td>\n",
       "      <td>718</td>\n",
       "      <td>21.2</td>\n",
       "      <td>49.2</td>\n",
       "      <td>64.0</td>\n",
       "      <td>21.6</td>\n",
       "    </tr>\n",
       "    <tr>\n",
       "      <th>2</th>\n",
       "      <td>5</td>\n",
       "      <td>Huntsville</td>\n",
       "      <td>AL</td>\n",
       "      <td>801</td>\n",
       "      <td>19.8</td>\n",
       "      <td>47.3</td>\n",
       "      <td>62.7</td>\n",
       "      <td>21.5</td>\n",
       "    </tr>\n",
       "    <tr>\n",
       "      <th>3</th>\n",
       "      <td>6</td>\n",
       "      <td>Mobile</td>\n",
       "      <td>AL</td>\n",
       "      <td>1122</td>\n",
       "      <td>23.4</td>\n",
       "      <td>37.1</td>\n",
       "      <td>57.6</td>\n",
       "      <td>23.1</td>\n",
       "    </tr>\n",
       "    <tr>\n",
       "      <th>4</th>\n",
       "      <td>7</td>\n",
       "      <td>Montgomery</td>\n",
       "      <td>AL</td>\n",
       "      <td>762</td>\n",
       "      <td>21.2</td>\n",
       "      <td>51.4</td>\n",
       "      <td>65.6</td>\n",
       "      <td>20.1</td>\n",
       "    </tr>\n",
       "  </tbody>\n",
       "</table>\n",
       "</div>"
      ],
      "text/plain": [
       "   HRR ID    HRR name State  Patients   Perc_Readmitted_30d   \\\n",
       "0       1  Birmingham    AL       3040                  20.6   \n",
       "1       2      Dothan    AL        718                  21.2   \n",
       "2       5  Huntsville    AL        801                  19.8   \n",
       "3       6      Mobile    AL       1122                  23.4   \n",
       "4       7  Montgomery    AL        762                  21.2   \n",
       "\n",
       "   Perc_PrimaryCare_14d   Perc_Ambulatory_14d   Perc_Emergency_30d  \n",
       "0                   44.9                  59.5                21.4  \n",
       "1                   49.2                  64.0                21.6  \n",
       "2                   47.3                  62.7                21.5  \n",
       "3                   37.1                  57.6                23.1  \n",
       "4                   51.4                  65.6                20.1  "
      ]
     },
     "execution_count": 133,
     "metadata": {},
     "output_type": "execute_result"
    }
   ],
   "source": [
    "df.head(5)"
   ]
  },
  {
   "cell_type": "markdown",
   "metadata": {},
   "source": [
    "You might wonder what is a dataframe. Consider it as a table that you can manipulate according to your needs and requiremnts. More on DataFrame can be found [here](https://pandas.pydata.org/pandas-docs/stable/generated/pandas.DataFrame.html)."
   ]
  },
  {
   "cell_type": "markdown",
   "metadata": {},
   "source": [
    "now how to access one column ? Let's try and get the column with just HRR names."
   ]
  },
  {
   "cell_type": "code",
   "execution_count": 38,
   "metadata": {
    "collapsed": false
   },
   "outputs": [
    {
     "data": {
      "text/plain": [
       "0                      Birmingham\n",
       "1                          Dothan\n",
       "2                      Huntsville\n",
       "3                          Mobile\n",
       "4                      Montgomery\n",
       "5                      Tuscaloosa\n",
       "6                       Anchorage\n",
       "7                            Mesa\n",
       "8                         Phoenix\n",
       "9                        Sun City\n",
       "10                         Tucson\n",
       "11                     Fort Smith\n",
       "12                      Jonesboro\n",
       "13                    Little Rock\n",
       "14                     Springdale\n",
       "15                      Texarkana\n",
       "16                  Orange County\n",
       "17                    Bakersfield\n",
       "18                          Chico\n",
       "19            Contra Costa County\n",
       "20                         Fresno\n",
       "21                    Los Angeles\n",
       "22                        Modesto\n",
       "23                           Napa\n",
       "24                 Alameda County\n",
       "25     Palm Springs/Rancho Mirage\n",
       "26                        Redding\n",
       "27                     Sacramento\n",
       "28                        Salinas\n",
       "29                 San Bernardino\n",
       "                  ...            \n",
       "277                         Provo\n",
       "278                Salt Lake City\n",
       "279                    Burlington\n",
       "280                     Arlington\n",
       "281               Charlottesville\n",
       "282                     Lynchburg\n",
       "283                  Newport News\n",
       "284                       Norfolk\n",
       "285                      Richmond\n",
       "286                       Roanoke\n",
       "287                    Winchester\n",
       "288                       Everett\n",
       "289                       Olympia\n",
       "290                       Seattle\n",
       "291                       Spokane\n",
       "292                        Tacoma\n",
       "293                        Yakima\n",
       "294                    Charleston\n",
       "295                    Huntington\n",
       "296                    Morgantown\n",
       "297                      Appleton\n",
       "298                     Green Bay\n",
       "299                     La Crosse\n",
       "300                       Madison\n",
       "301                    Marshfield\n",
       "302                     Milwaukee\n",
       "303                        Neenah\n",
       "304                        Wausau\n",
       "305                        Casper\n",
       "306                 United States\n",
       "Name: HRR name, dtype: object"
      ]
     },
     "execution_count": 38,
     "metadata": {},
     "output_type": "execute_result"
    }
   ],
   "source": [
    "df['HRR name']"
   ]
  },
  {
   "cell_type": "markdown",
   "metadata": {},
   "source": [
    "now that we have a coloum, what about one row ?"
   ]
  },
  {
   "cell_type": "code",
   "execution_count": 24,
   "metadata": {
    "collapsed": false
   },
   "outputs": [
    {
     "data": {
      "text/plain": [
       "HRR ID                        2\n",
       "HRR name                 Dothan\n",
       "State                        AL\n",
       "Patients                    718\n",
       "Perc_Readmitted_30d        21.2\n",
       "Perc_PrimaryCare_14d       49.2\n",
       "Perc_Ambulatory_14d          64\n",
       "Perc_Emergency_30d         21.6\n",
       "Name: 1, dtype: object"
      ]
     },
     "execution_count": 24,
     "metadata": {},
     "output_type": "execute_result"
    }
   ],
   "source": [
    "df.iloc[1]"
   ]
  },
  {
   "cell_type": "markdown",
   "metadata": {},
   "source": [
    "Note that the output of df.iloc[`i`] and df[`<Coloum name>`] does not looks like a dataframe and that is because they are not. The output of these functions are series more on that can be found [here](https://pandas.pydata.org/pandas-docs/stable/generated/pandas.Series.html). But you can think of series as a List in Python."
   ]
  },
  {
   "cell_type": "markdown",
   "metadata": {},
   "source": [
    "If you get confused about what kind of object a variable or function represents we can check its type as below"
   ]
  },
  {
   "cell_type": "code",
   "execution_count": 39,
   "metadata": {
    "collapsed": false
   },
   "outputs": [
    {
     "data": {
      "text/plain": [
       "pandas.core.series.Series"
      ]
     },
     "execution_count": 39,
     "metadata": {},
     "output_type": "execute_result"
    }
   ],
   "source": [
    "type(df['Patients '])"
   ]
  },
  {
   "cell_type": "markdown",
   "metadata": {},
   "source": [
    "Some of the functions that can be helpful in understanding what our data is :"
   ]
  },
  {
   "cell_type": "code",
   "execution_count": 40,
   "metadata": {
    "collapsed": false
   },
   "outputs": [
    {
     "name": "stdout",
     "output_type": "stream",
     "text": [
      "<class 'pandas.core.frame.DataFrame'>\n",
      "RangeIndex: 307 entries, 0 to 306\n",
      "Data columns (total 8 columns):\n",
      "HRR ID                   307 non-null int64\n",
      "HRR name                 307 non-null object\n",
      "State                    307 non-null object\n",
      "Patients                 307 non-null object\n",
      "Perc_Readmitted_30d      301 non-null float64\n",
      "Perc_PrimaryCare_14d     236 non-null float64\n",
      "Perc_Ambulatory_14d      276 non-null float64\n",
      "Perc_Emergency_30d       305 non-null float64\n",
      "dtypes: float64(4), int64(1), object(3)\n",
      "memory usage: 19.3+ KB\n"
     ]
    }
   ],
   "source": [
    "df.info()"
   ]
  },
  {
   "cell_type": "code",
   "execution_count": 41,
   "metadata": {
    "collapsed": false
   },
   "outputs": [
    {
     "data": {
      "text/plain": [
       "count     307\n",
       "unique    279\n",
       "top       651\n",
       "freq        2\n",
       "Name: Patients , dtype: object"
      ]
     },
     "execution_count": 41,
     "metadata": {},
     "output_type": "execute_result"
    }
   ],
   "source": [
    "df['Patients '].describe()"
   ]
  },
  {
   "cell_type": "code",
   "execution_count": 137,
   "metadata": {
    "collapsed": false
   },
   "outputs": [
    {
     "data": {
      "text/plain": [
       "array([  3040,    718,    801,   1122,    762,    329,    243,    502,\n",
       "         1676,    346,    710,    556,    468,   2518,    456,    534,\n",
       "         1431,    635,    368,    382,    740,   5276,    602,    229,\n",
       "          825,    293,    389,   1294,    335,   1015,   1650,    774,\n",
       "          643,    194,    399,    255,    172,    297,    445,    474,\n",
       "           99,    460,   1049,    200,    152,    257,    139,    709,\n",
       "         1826,   1764,   1006,   2428,    471,    808,   2982,   1723,\n",
       "          811,    854,   1803,    481,   2260,    983,   4408,    563,\n",
       "          357,   1090,    813,    552,    903,   1067,    272,   4653,\n",
       "          755,    410,   1052,    430,   1071,    630,    494,    157,\n",
       "          198,   1565,   3201,    651,   1295,    400,    868,   1684,\n",
       "         1040,   1022,   1570,    686,    184,   1196,   1101,   1069,\n",
       "         3464,    156,    758,   1034,    311,    337,    714,   1366,\n",
       "          164,    375,    233,    360,    264,    486,   1852,    483,\n",
       "         2078,   2627,    245,    692,    633,   1047,    395,    988,\n",
       "          501,    615,    561,    892,   1282,    530,   3297,    812,\n",
       "          622,   5618,    792,    596,   1525,   1044,   3150,    913,\n",
       "         1165,    957,    851,    280,    322,    292,    581,    994,\n",
       "         1341,    393,    523,   2502,    541,    261,    637,    298,\n",
       "          426,   1855,    394,    608,    551,    605,   2856,   4567,\n",
       "          558,    149,    398,    694,   1434,    890,    452,   4009,\n",
       "         1626,   1092,   1124,   2093,    485,    820,   2350,    935,\n",
       "         1648,    648,   4192,   3447,   1074,   1324,   1190,    777,\n",
       "         2572,   1706,   1253,    334,   1829,    595,   1249,    610,\n",
       "          196,    160,    934,    940,   2087,   3446,   3729,   1754,\n",
       "          378,    489,   1483,   1217,    304,   2297,   1486,    109,\n",
       "          424,   1204,    119,   2019,    470,    797,   1272,   1439,\n",
       "          289,    928,   4490,   4847,    990,    617,    533,   1200,\n",
       "          652,    955,    528,    187,   1116,    959,    607,    373,\n",
       "         1917,   2719,   3129,   1058,    759,    258,    816,   3882,\n",
       "          902,   1490,    591,   5043,   1048,    593,    434,    216,\n",
       "         2418,    271,    997,    300,    490,    381,    202,    244,\n",
       "         1081,    992,    697,    598,   1511,   2053,   1143,    566,\n",
       "          305,    301,   1606,   1114,    273,   1466,    817,    570,\n",
       "          684,    363,    543,   3196,    282,    307, 321321], dtype=int64)"
      ]
     },
     "execution_count": 137,
     "metadata": {},
     "output_type": "execute_result"
    }
   ],
   "source": [
    "df['Patients '].unique()"
   ]
  },
  {
   "cell_type": "code",
   "execution_count": 138,
   "metadata": {
    "collapsed": false
   },
   "outputs": [
    {
     "data": {
      "text/html": [
       "<div>\n",
       "<table border=\"1\" class=\"dataframe\">\n",
       "  <thead>\n",
       "    <tr style=\"text-align: right;\">\n",
       "      <th></th>\n",
       "      <th>HRR ID</th>\n",
       "      <th>HRR name</th>\n",
       "      <th>State</th>\n",
       "      <th>Patients</th>\n",
       "      <th>Perc_Readmitted_30d</th>\n",
       "      <th>Perc_PrimaryCare_14d</th>\n",
       "      <th>Perc_Ambulatory_14d</th>\n",
       "      <th>Perc_Emergency_30d</th>\n",
       "    </tr>\n",
       "  </thead>\n",
       "  <tbody>\n",
       "    <tr>\n",
       "      <th>1</th>\n",
       "      <td>2</td>\n",
       "      <td>Dothan</td>\n",
       "      <td>AL</td>\n",
       "      <td>718</td>\n",
       "      <td>21.2</td>\n",
       "      <td>49.2</td>\n",
       "      <td>64.0</td>\n",
       "      <td>21.6</td>\n",
       "    </tr>\n",
       "    <tr>\n",
       "      <th>2</th>\n",
       "      <td>5</td>\n",
       "      <td>Huntsville</td>\n",
       "      <td>AL</td>\n",
       "      <td>801</td>\n",
       "      <td>19.8</td>\n",
       "      <td>47.3</td>\n",
       "      <td>62.7</td>\n",
       "      <td>21.5</td>\n",
       "    </tr>\n",
       "    <tr>\n",
       "      <th>3</th>\n",
       "      <td>6</td>\n",
       "      <td>Mobile</td>\n",
       "      <td>AL</td>\n",
       "      <td>1122</td>\n",
       "      <td>23.4</td>\n",
       "      <td>37.1</td>\n",
       "      <td>57.6</td>\n",
       "      <td>23.1</td>\n",
       "    </tr>\n",
       "    <tr>\n",
       "      <th>4</th>\n",
       "      <td>7</td>\n",
       "      <td>Montgomery</td>\n",
       "      <td>AL</td>\n",
       "      <td>762</td>\n",
       "      <td>21.2</td>\n",
       "      <td>51.4</td>\n",
       "      <td>65.6</td>\n",
       "      <td>20.1</td>\n",
       "    </tr>\n",
       "    <tr>\n",
       "      <th>5</th>\n",
       "      <td>9</td>\n",
       "      <td>Tuscaloosa</td>\n",
       "      <td>AL</td>\n",
       "      <td>329</td>\n",
       "      <td>19.5</td>\n",
       "      <td>NaN</td>\n",
       "      <td>60.1</td>\n",
       "      <td>21.5</td>\n",
       "    </tr>\n",
       "    <tr>\n",
       "      <th>6</th>\n",
       "      <td>10</td>\n",
       "      <td>Anchorage</td>\n",
       "      <td>AK</td>\n",
       "      <td>243</td>\n",
       "      <td>21.4</td>\n",
       "      <td>NaN</td>\n",
       "      <td>54.3</td>\n",
       "      <td>23.5</td>\n",
       "    </tr>\n",
       "    <tr>\n",
       "      <th>7</th>\n",
       "      <td>11</td>\n",
       "      <td>Mesa</td>\n",
       "      <td>AZ</td>\n",
       "      <td>502</td>\n",
       "      <td>23.6</td>\n",
       "      <td>40.5</td>\n",
       "      <td>66.0</td>\n",
       "      <td>25.3</td>\n",
       "    </tr>\n",
       "    <tr>\n",
       "      <th>8</th>\n",
       "      <td>12</td>\n",
       "      <td>Phoenix</td>\n",
       "      <td>AZ</td>\n",
       "      <td>1676</td>\n",
       "      <td>20.4</td>\n",
       "      <td>40.2</td>\n",
       "      <td>62.7</td>\n",
       "      <td>21.8</td>\n",
       "    </tr>\n",
       "    <tr>\n",
       "      <th>9</th>\n",
       "      <td>14</td>\n",
       "      <td>Sun City</td>\n",
       "      <td>AZ</td>\n",
       "      <td>346</td>\n",
       "      <td>18.4</td>\n",
       "      <td>NaN</td>\n",
       "      <td>63.1</td>\n",
       "      <td>20.6</td>\n",
       "    </tr>\n",
       "  </tbody>\n",
       "</table>\n",
       "</div>"
      ],
      "text/plain": [
       "   HRR ID    HRR name State  Patients   Perc_Readmitted_30d   \\\n",
       "1       2      Dothan    AL        718                  21.2   \n",
       "2       5  Huntsville    AL        801                  19.8   \n",
       "3       6      Mobile    AL       1122                  23.4   \n",
       "4       7  Montgomery    AL        762                  21.2   \n",
       "5       9  Tuscaloosa    AL        329                  19.5   \n",
       "6      10   Anchorage    AK        243                  21.4   \n",
       "7      11        Mesa    AZ        502                  23.6   \n",
       "8      12     Phoenix    AZ       1676                  20.4   \n",
       "9      14    Sun City    AZ        346                  18.4   \n",
       "\n",
       "   Perc_PrimaryCare_14d   Perc_Ambulatory_14d   Perc_Emergency_30d  \n",
       "1                   49.2                  64.0                21.6  \n",
       "2                   47.3                  62.7                21.5  \n",
       "3                   37.1                  57.6                23.1  \n",
       "4                   51.4                  65.6                20.1  \n",
       "5                    NaN                  60.1                21.5  \n",
       "6                    NaN                  54.3                23.5  \n",
       "7                   40.5                  66.0                25.3  \n",
       "8                   40.2                  62.7                21.8  \n",
       "9                    NaN                  63.1                20.6  "
      ]
     },
     "execution_count": 138,
     "metadata": {},
     "output_type": "execute_result"
    }
   ],
   "source": [
    "df[1:10]"
   ]
  },
  {
   "cell_type": "markdown",
   "metadata": {},
   "source": [
    "## More complex operations"
   ]
  },
  {
   "cell_type": "markdown",
   "metadata": {},
   "source": [
    "#### Row filtering"
   ]
  },
  {
   "cell_type": "markdown",
   "metadata": {},
   "source": [
    "To create row filters, we use lists of Boolean values that evaluate a condition:"
   ]
  },
  {
   "cell_type": "code",
   "execution_count": 139,
   "metadata": {
    "collapsed": false
   },
   "outputs": [],
   "source": [
    "isFlorida = df['State']=='FL'"
   ]
  },
  {
   "cell_type": "markdown",
   "metadata": {},
   "source": [
    "This returns a list of True/False values for each row in df that evaluate the given condition. To filter using this list:"
   ]
  },
  {
   "cell_type": "code",
   "execution_count": 140,
   "metadata": {
    "collapsed": true
   },
   "outputs": [],
   "source": [
    "fl_df = df[isFlorida]"
   ]
  },
  {
   "cell_type": "code",
   "execution_count": 141,
   "metadata": {
    "collapsed": false
   },
   "outputs": [
    {
     "data": {
      "text/html": [
       "<div>\n",
       "<table border=\"1\" class=\"dataframe\">\n",
       "  <thead>\n",
       "    <tr style=\"text-align: right;\">\n",
       "      <th></th>\n",
       "      <th>HRR ID</th>\n",
       "      <th>HRR name</th>\n",
       "      <th>State</th>\n",
       "      <th>Patients</th>\n",
       "      <th>Perc_Readmitted_30d</th>\n",
       "      <th>Perc_PrimaryCare_14d</th>\n",
       "      <th>Perc_Ambulatory_14d</th>\n",
       "      <th>Perc_Emergency_30d</th>\n",
       "    </tr>\n",
       "  </thead>\n",
       "  <tbody>\n",
       "    <tr>\n",
       "      <th>52</th>\n",
       "      <td>115</td>\n",
       "      <td>Bradenton</td>\n",
       "      <td>FL</td>\n",
       "      <td>471</td>\n",
       "      <td>23.3</td>\n",
       "      <td>40.5</td>\n",
       "      <td>73.1</td>\n",
       "      <td>23.0</td>\n",
       "    </tr>\n",
       "    <tr>\n",
       "      <th>53</th>\n",
       "      <td>116</td>\n",
       "      <td>Clearwater</td>\n",
       "      <td>FL</td>\n",
       "      <td>808</td>\n",
       "      <td>22.0</td>\n",
       "      <td>49.5</td>\n",
       "      <td>66.7</td>\n",
       "      <td>20.0</td>\n",
       "    </tr>\n",
       "    <tr>\n",
       "      <th>54</th>\n",
       "      <td>118</td>\n",
       "      <td>Fort Lauderdale</td>\n",
       "      <td>FL</td>\n",
       "      <td>2982</td>\n",
       "      <td>21.6</td>\n",
       "      <td>40.1</td>\n",
       "      <td>71.9</td>\n",
       "      <td>22.5</td>\n",
       "    </tr>\n",
       "    <tr>\n",
       "      <th>55</th>\n",
       "      <td>119</td>\n",
       "      <td>Fort Myers</td>\n",
       "      <td>FL</td>\n",
       "      <td>1723</td>\n",
       "      <td>19.8</td>\n",
       "      <td>40.7</td>\n",
       "      <td>66.2</td>\n",
       "      <td>21.3</td>\n",
       "    </tr>\n",
       "    <tr>\n",
       "      <th>56</th>\n",
       "      <td>120</td>\n",
       "      <td>Gainesville</td>\n",
       "      <td>FL</td>\n",
       "      <td>811</td>\n",
       "      <td>20.5</td>\n",
       "      <td>52.5</td>\n",
       "      <td>66.4</td>\n",
       "      <td>22.3</td>\n",
       "    </tr>\n",
       "    <tr>\n",
       "      <th>57</th>\n",
       "      <td>122</td>\n",
       "      <td>Hudson</td>\n",
       "      <td>FL</td>\n",
       "      <td>854</td>\n",
       "      <td>20.2</td>\n",
       "      <td>42.3</td>\n",
       "      <td>65.0</td>\n",
       "      <td>21.5</td>\n",
       "    </tr>\n",
       "    <tr>\n",
       "      <th>58</th>\n",
       "      <td>123</td>\n",
       "      <td>Jacksonville</td>\n",
       "      <td>FL</td>\n",
       "      <td>1803</td>\n",
       "      <td>22.2</td>\n",
       "      <td>44.4</td>\n",
       "      <td>65.2</td>\n",
       "      <td>23.9</td>\n",
       "    </tr>\n",
       "    <tr>\n",
       "      <th>59</th>\n",
       "      <td>124</td>\n",
       "      <td>Lakeland</td>\n",
       "      <td>FL</td>\n",
       "      <td>481</td>\n",
       "      <td>22.4</td>\n",
       "      <td>51.3</td>\n",
       "      <td>71.9</td>\n",
       "      <td>22.1</td>\n",
       "    </tr>\n",
       "    <tr>\n",
       "      <th>60</th>\n",
       "      <td>127</td>\n",
       "      <td>Miami</td>\n",
       "      <td>FL</td>\n",
       "      <td>2260</td>\n",
       "      <td>23.6</td>\n",
       "      <td>35.4</td>\n",
       "      <td>60.9</td>\n",
       "      <td>23.4</td>\n",
       "    </tr>\n",
       "    <tr>\n",
       "      <th>61</th>\n",
       "      <td>129</td>\n",
       "      <td>Ocala</td>\n",
       "      <td>FL</td>\n",
       "      <td>983</td>\n",
       "      <td>20.8</td>\n",
       "      <td>37.9</td>\n",
       "      <td>63.9</td>\n",
       "      <td>24.0</td>\n",
       "    </tr>\n",
       "    <tr>\n",
       "      <th>62</th>\n",
       "      <td>130</td>\n",
       "      <td>Orlando</td>\n",
       "      <td>FL</td>\n",
       "      <td>4408</td>\n",
       "      <td>21.0</td>\n",
       "      <td>45.8</td>\n",
       "      <td>69.5</td>\n",
       "      <td>21.8</td>\n",
       "    </tr>\n",
       "    <tr>\n",
       "      <th>63</th>\n",
       "      <td>131</td>\n",
       "      <td>Ormond Beach</td>\n",
       "      <td>FL</td>\n",
       "      <td>563</td>\n",
       "      <td>19.1</td>\n",
       "      <td>48.6</td>\n",
       "      <td>65.2</td>\n",
       "      <td>25.2</td>\n",
       "    </tr>\n",
       "    <tr>\n",
       "      <th>64</th>\n",
       "      <td>133</td>\n",
       "      <td>Panama City</td>\n",
       "      <td>FL</td>\n",
       "      <td>357</td>\n",
       "      <td>21.8</td>\n",
       "      <td>NaN</td>\n",
       "      <td>68.1</td>\n",
       "      <td>19.8</td>\n",
       "    </tr>\n",
       "    <tr>\n",
       "      <th>65</th>\n",
       "      <td>134</td>\n",
       "      <td>Pensacola</td>\n",
       "      <td>FL</td>\n",
       "      <td>1090</td>\n",
       "      <td>21.4</td>\n",
       "      <td>39.9</td>\n",
       "      <td>58.1</td>\n",
       "      <td>26.1</td>\n",
       "    </tr>\n",
       "    <tr>\n",
       "      <th>66</th>\n",
       "      <td>137</td>\n",
       "      <td>Sarasota</td>\n",
       "      <td>FL</td>\n",
       "      <td>813</td>\n",
       "      <td>17.3</td>\n",
       "      <td>41.2</td>\n",
       "      <td>69.2</td>\n",
       "      <td>19.1</td>\n",
       "    </tr>\n",
       "    <tr>\n",
       "      <th>67</th>\n",
       "      <td>139</td>\n",
       "      <td>St. Petersburg</td>\n",
       "      <td>FL</td>\n",
       "      <td>552</td>\n",
       "      <td>19.0</td>\n",
       "      <td>49.4</td>\n",
       "      <td>70.1</td>\n",
       "      <td>20.2</td>\n",
       "    </tr>\n",
       "    <tr>\n",
       "      <th>68</th>\n",
       "      <td>140</td>\n",
       "      <td>Tallahassee</td>\n",
       "      <td>FL</td>\n",
       "      <td>903</td>\n",
       "      <td>18.5</td>\n",
       "      <td>46.4</td>\n",
       "      <td>59.5</td>\n",
       "      <td>19.4</td>\n",
       "    </tr>\n",
       "    <tr>\n",
       "      <th>69</th>\n",
       "      <td>141</td>\n",
       "      <td>Tampa</td>\n",
       "      <td>FL</td>\n",
       "      <td>1067</td>\n",
       "      <td>20.9</td>\n",
       "      <td>37.7</td>\n",
       "      <td>57.0</td>\n",
       "      <td>21.8</td>\n",
       "    </tr>\n",
       "  </tbody>\n",
       "</table>\n",
       "</div>"
      ],
      "text/plain": [
       "    HRR ID         HRR name State  Patients   Perc_Readmitted_30d   \\\n",
       "52     115        Bradenton    FL        471                  23.3   \n",
       "53     116       Clearwater    FL        808                  22.0   \n",
       "54     118  Fort Lauderdale    FL       2982                  21.6   \n",
       "55     119       Fort Myers    FL       1723                  19.8   \n",
       "56     120      Gainesville    FL        811                  20.5   \n",
       "57     122           Hudson    FL        854                  20.2   \n",
       "58     123     Jacksonville    FL       1803                  22.2   \n",
       "59     124         Lakeland    FL        481                  22.4   \n",
       "60     127            Miami    FL       2260                  23.6   \n",
       "61     129            Ocala    FL        983                  20.8   \n",
       "62     130          Orlando    FL       4408                  21.0   \n",
       "63     131     Ormond Beach    FL        563                  19.1   \n",
       "64     133      Panama City    FL        357                  21.8   \n",
       "65     134        Pensacola    FL       1090                  21.4   \n",
       "66     137         Sarasota    FL        813                  17.3   \n",
       "67     139   St. Petersburg    FL        552                  19.0   \n",
       "68     140      Tallahassee    FL        903                  18.5   \n",
       "69     141            Tampa    FL       1067                  20.9   \n",
       "\n",
       "    Perc_PrimaryCare_14d   Perc_Ambulatory_14d   Perc_Emergency_30d  \n",
       "52                   40.5                  73.1                23.0  \n",
       "53                   49.5                  66.7                20.0  \n",
       "54                   40.1                  71.9                22.5  \n",
       "55                   40.7                  66.2                21.3  \n",
       "56                   52.5                  66.4                22.3  \n",
       "57                   42.3                  65.0                21.5  \n",
       "58                   44.4                  65.2                23.9  \n",
       "59                   51.3                  71.9                22.1  \n",
       "60                   35.4                  60.9                23.4  \n",
       "61                   37.9                  63.9                24.0  \n",
       "62                   45.8                  69.5                21.8  \n",
       "63                   48.6                  65.2                25.2  \n",
       "64                    NaN                  68.1                19.8  \n",
       "65                   39.9                  58.1                26.1  \n",
       "66                   41.2                  69.2                19.1  \n",
       "67                   49.4                  70.1                20.2  \n",
       "68                   46.4                  59.5                19.4  \n",
       "69                   37.7                  57.0                21.8  "
      ]
     },
     "execution_count": 141,
     "metadata": {},
     "output_type": "execute_result"
    }
   ],
   "source": [
    "fl_df"
   ]
  },
  {
   "cell_type": "markdown",
   "metadata": {},
   "source": [
    "More concisely :"
   ]
  },
  {
   "cell_type": "code",
   "execution_count": 142,
   "metadata": {
    "collapsed": true
   },
   "outputs": [],
   "source": [
    "fl_df = df[df['State'] == 'FL']"
   ]
  },
  {
   "cell_type": "markdown",
   "metadata": {},
   "source": [
    "#### Column filtering"
   ]
  },
  {
   "cell_type": "markdown",
   "metadata": {},
   "source": [
    "For column filters, we use the name of the columns that we want to keep, as we did earlier for one column we can pass multiple coloums as a string array:"
   ]
  },
  {
   "cell_type": "code",
   "execution_count": 143,
   "metadata": {
    "collapsed": false
   },
   "outputs": [],
   "source": [
    "sample_df = df[['HRR ID','HRR name','State']]"
   ]
  },
  {
   "cell_type": "markdown",
   "metadata": {},
   "source": [
    "### Exersices :"
   ]
  },
  {
   "cell_type": "markdown",
   "metadata": {},
   "source": [
    " 1. First we need to get the data loaded for ``` post_discharge_events_hrr_Medical_2012.csv ```.\n",
    " 2. We need to look at top 10 lines of this data.\n",
    " 3. Now that we have the data let us look at just two coloumns i.e. ` 'HRR Name' ` and ` 'Patients ' `\n",
    " 4. Write a function that takes a state code as input and returns a dataframe that represents data just for that satate.\n",
    " 5. Write a function that takes a percentage and a column name to return a dataframe with values less than that percentage on that column.Example 40 and Perc_PrimaryCare_14d given to a function will return dataframe with all records with values less than ` 40% ` in ` 'Perc_PrimaryCare_14d '`."
   ]
  },
  {
   "cell_type": "markdown",
   "metadata": {},
   "source": [
    "### Assignments :"
   ]
  },
  {
   "cell_type": "markdown",
   "metadata": {},
   "source": [
    "1. Choose a Datafile you want to work with and load it.\n",
    "2. Write a function that takes a percentage and number to return a dataframe with values less than that percentage in `'Perc_Readmitted_30d '` and `'Patients '` more than the number .Example 40 and 400 given to a function will return dataframe with all records with values less than ` 40% ` in ` 'Perc_Readmitted_30d '` and `'Patients '` more than `400`.\n",
    "2. Write a function that takes a pattern as input and return the dataframe with all the records that has ` 'HRR Name' ` starting with that pattern.\n",
    "3. Get the sum of all patients i.e. our data file already have last row that has the sum of all patients but what if we have a data that does not have such row. Your Answer should be same as the last row of our data."
   ]
  },
  {
   "cell_type": "code",
   "execution_count": null,
   "metadata": {
    "collapsed": true
   },
   "outputs": [],
   "source": []
  }
 ],
 "metadata": {
  "anaconda-cloud": {},
  "kernelspec": {
   "display_name": "Python [conda env:tensorflow-gpu]",
   "language": "python",
   "name": "conda-env-tensorflow-gpu-py"
  },
  "language_info": {
   "codemirror_mode": {
    "name": "ipython",
    "version": 3
   },
   "file_extension": ".py",
   "mimetype": "text/x-python",
   "name": "python",
   "nbconvert_exporter": "python",
   "pygments_lexer": "ipython3",
   "version": "3.5.2"
  }
 },
 "nbformat": 4,
 "nbformat_minor": 1
}
